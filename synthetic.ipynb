{
 "cells": [
  {
   "cell_type": "code",
   "execution_count": null,
   "id": "61275a05-7251-4193-ab88-7bf1a5776f58",
   "metadata": {},
   "outputs": [],
   "source": [
    "from numpy.random import rand, multivariate_normal\n",
    "from numpy import arange, zeros, dot, ones\n",
    "import matplotlib.pyplot as plt\n",
    "import numpy as np\n",
    "from tqdm import tqdm\n",
    "from ite.cost.x_factory import co_factory\n",
    "from ite.cost.x_analytical_values import analytical_value_d_tsallis\n",
    "from collections import defaultdict\n",
    "import pandas as pd\n",
    "import seaborn as sns"
   ]
  },
  {
   "cell_type": "code",
   "execution_count": null,
   "id": "dc039d78-ea1d-4fdd-abc8-1f1c35bf6f0f",
   "metadata": {},
   "outputs": [],
   "source": [
    "def generate_normal_4(d, n_samples, fac):\n",
    "    mean = np.zeros(4)\n",
    "    \n",
    "    if fac == 22:\n",
    "        cov = [[1, d, 0, 0],\n",
    "               [d, 1, 0, 0],\n",
    "               [0, 0, 1, d],\n",
    "               [0, 0, d, 1]]\n",
    "    if fac == 13:\n",
    "        cov = [[1, 0, 0, 0],\n",
    "               [0, 1, d, d],\n",
    "               [0, d, 1, d],\n",
    "               [0, d, d, 1]]\n",
    "    if fac == 4:\n",
    "        cov = [[1, d, d, d],\n",
    "               [d, 1, d, d],\n",
    "               [d, d, 1, d],\n",
    "               [d, d, d, 1]]\n",
    "    # Generate the multivariate normal data\n",
    "    mvn_data = np.random.multivariate_normal(mean, cov, n_samples)\n",
    "\n",
    "    return mvn_data"
   ]
  },
  {
   "cell_type": "code",
   "execution_count": null,
   "id": "9b62afc1-1762-4a4b-970c-a7fc3e89a63c",
   "metadata": {},
   "outputs": [],
   "source": [
    "def generate_normal_4_check(d, n_samples, fac):\n",
    "    mean = np.zeros(4)\n",
    "    \n",
    "    if fac == '2e':\n",
    "        cov = [[1, 1, d, d],\n",
    "               [1, 1, d, d],\n",
    "               [d, d, 1, 1],\n",
    "               [d, d, 1, 1]]\n",
    "    if fac == '2s1e':\n",
    "        cov = [[1, 1, d, d],\n",
    "               [1, 1, d, d],\n",
    "               [d, d, 1, d],\n",
    "               [d, d, d, 1]]\n",
    "    if fac == '4s':\n",
    "        cov = [[1, d, d, d],\n",
    "               [d, 1, d, d],\n",
    "               [d, d, 1, d],\n",
    "               [d, d, d, 1]]\n",
    "    if fac == '1s1t':\n",
    "        cov = [[1, 1, 1, d],\n",
    "               [1, 1, 1, d],\n",
    "               [1, 1, 1, d],\n",
    "               [d, d, d, 1]]\n",
    "    # Generate the multivariate normal data\n",
    "    mvn_data = np.random.multivariate_normal(mean, cov, n_samples)\n",
    "\n",
    "    # Generate noise\n",
    "    noise = np.random.normal(0, 0.1, (n_samples, 4))\n",
    "\n",
    "    # Add noise to the data\n",
    "    data_with_noise = mvn_data + noise\n",
    "\n",
    "    return data_with_noise"
   ]
  },
  {
   "cell_type": "code",
   "execution_count": null,
   "id": "5b32dca2-a7e9-4a68-b6b0-0664dec857c3",
   "metadata": {},
   "outputs": [],
   "source": [
    "def shuffle_data(data, shuffle_indices):\n",
    "    # Create a copy of the original data to avoid modifying the input in place.\n",
    "    shuffled_data = data.copy()\n",
    "\n",
    "    for indices in shuffle_indices:\n",
    "        # Generate a random permutation for the indices.\n",
    "        permutation = np.random.permutation(shuffled_data.shape[0])\n",
    "\n",
    "        # Apply the permutation to the specified indices.\n",
    "        for idx in indices:\n",
    "            shuffled_data[:, idx] = shuffled_data[permutation, idx]\n",
    "\n",
    "    return shuffled_data"
   ]
  },
  {
   "cell_type": "code",
   "execution_count": null,
   "id": "13499d15-6408-4015-8eca-f82664c19649",
   "metadata": {},
   "outputs": [],
   "source": [
    "def Streitberg_4(X, div_func):\n",
    "    n = X.shape[0]\n",
    "    # X_fully_shuffled = shuffle_data(X[:int(0.5 * n)], [[0], [1], [2]])\n",
    "    # X = X[int(0.5 * n):]\n",
    "    X_fully_shuffled = shuffle_data(X, [[0], [1], [2]])\n",
    "    p1234 = div_func(X, X_fully_shuffled)\n",
    "    p1p234 = div_func(X[:,[1, 2, 3]], X_fully_shuffled[:,[1, 2, 3]])\n",
    "    p2p134 = div_func(X[:,[0, 2, 3]], X_fully_shuffled[:,[0, 2, 3]])\n",
    "    p3p124 = div_func(X[:,[0, 1, 3]], X_fully_shuffled[:,[0, 1, 3]])\n",
    "    p4p123 = div_func(X[:,[0, 1, 2]], X_fully_shuffled[:,[0, 1, 2]])\n",
    "    p12p34 = div_func(shuffle_data(X, [[0, 1]]), X_fully_shuffled)\n",
    "    p13p24 = div_func(shuffle_data(X, [[0, 2]]), X_fully_shuffled)\n",
    "    p14p23 = div_func(shuffle_data(X, [[0, 3]]), X_fully_shuffled)\n",
    "    p1p2p34 = div_func(X[:,[2, 3]], X_fully_shuffled[:,[2, 3]])\n",
    "    p1p3p24 = div_func(X[:,[1, 3]], X_fully_shuffled[:,[1, 3]])\n",
    "    p1p4p23 = div_func(X[:,[1, 2]], X_fully_shuffled[:,[1, 2]])\n",
    "    p2p3p14 = div_func(X[:,[0, 3]], X_fully_shuffled[:,[0, 3]])\n",
    "    p2p4p13 = div_func(X[:,[0, 2]], X_fully_shuffled[:,[0, 2]])\n",
    "    p3p4p12 = div_func(X[:,[0, 1]], X_fully_shuffled[:,[0, 1]])\n",
    "\n",
    "    streitberg_4 = (p1234 - (p1p234 + p2p134 + p3p124 + p4p123) - (p12p34 + p13p24 + p14p23)\n",
    "                    + 2 * (p1p2p34 + p1p3p24 + p1p4p23 + p2p3p14 + p2p4p13 + p3p4p12))\n",
    "\n",
    "    return streitberg_4\n",
    "\n",
    "def Lancaster_4(X, div_func):\n",
    "    n = X.shape[0]\n",
    "    # X_fully_shuffled = shuffle_data(X[:int(0.5 * n)], [[0], [1], [2]])\n",
    "    # X = X[int(0.5 * n):]\n",
    "    X_fully_shuffled = shuffle_data(X, [[0], [1], [2]])\n",
    "    p1234 = div_func(X, X_fully_shuffled)\n",
    "    \n",
    "    p1p234 = div_func(X[:,[1, 2, 3]], X_fully_shuffled[:,[1, 2, 3]])\n",
    "    p2p134 = div_func(X[:,[0, 2, 3]], X_fully_shuffled[:,[0, 2, 3]])\n",
    "    p3p124 = div_func(X[:,[0, 1, 3]], X_fully_shuffled[:,[0, 1, 3]])\n",
    "    p4p123 = div_func(X[:,[0, 1, 2]], X_fully_shuffled[:,[0, 1, 2]])\n",
    "    \n",
    "    p1p2p34 = div_func(X[:,[2, 3]], X_fully_shuffled[:,[2, 3]])\n",
    "    p1p3p24 = div_func(X[:,[1, 3]], X_fully_shuffled[:,[1, 3]])\n",
    "    p1p4p23 = div_func(X[:,[1, 2]], X_fully_shuffled[:,[1, 2]])\n",
    "    p2p3p14 = div_func(X[:,[0, 3]], X_fully_shuffled[:,[0, 3]])\n",
    "    p2p4p13 = div_func(X[:,[0, 2]], X_fully_shuffled[:,[0, 2]])\n",
    "    p3p4p12 = div_func(X[:,[0, 1]], X_fully_shuffled[:,[0, 1]])\n",
    "\n",
    "    Lancaster_4 = (p1234 - (p1p234 + p2p134 + p3p124 + p4p123)\n",
    "                    +  (p1p2p34 + p1p3p24 + p1p4p23 + p2p3p14 + p2p4p13 + p3p4p12))\n",
    "\n",
    "    return Lancaster_4"
   ]
  },
  {
   "cell_type": "code",
   "execution_count": null,
   "id": "48de6ca8-56e0-4a2d-a2f0-29455abce4d0",
   "metadata": {},
   "outputs": [],
   "source": [
    "def TC4(X, div_func):\n",
    "    n = X.shape[0]\n",
    "    X_fully_shuffled = shuffle_data(X, [[0], [1], [2]]) \n",
    "    p1234 = div_func(X, X_fully_shuffled)\n",
    "    return p1234"
   ]
  },
  {
   "cell_type": "markdown",
   "id": "c6d76069-7d31-45e4-80a8-606ab7683d76",
   "metadata": {},
   "source": [
    "# K choice"
   ]
  },
  {
   "cell_type": "code",
   "execution_count": null,
   "id": "58374316-a3dc-48dd-83c8-b4a187a1f501",
   "metadata": {},
   "outputs": [],
   "source": [
    "ks = [5, 10, 15, 20, 25, 30]\n",
    "ds = [0, 0.05, 0.1, 0.15, 0.2, 0.25, 0.3, 0.35, 0.4, 0.45, 0.5, 0.55, 0.6, 0.65, 0.7, 0.75, 0.8, 0.85, 0.9, 0.95]"
   ]
  },
  {
   "cell_type": "code",
   "execution_count": null,
   "id": "ce9c55d0-4cd3-407e-9aa5-7e0ea59250ae",
   "metadata": {},
   "outputs": [],
   "source": [
    "normal4_dict = defaultdict(lambda: defaultdict(int))\n",
    "for k in tqdm(ks):\n",
    "    cost_name = 'BDTsallis_KnnK'  # dim >= 1\n",
    "    co = co_factory(cost_name, mult=True, alpha=0.5, k=k)  # cost object \n",
    "    for d in ds:\n",
    "        divs = 0\n",
    "        for i in np.arange(200):\n",
    "            X = generate_normal_4(d=d, n_samples=80, fac=4)\n",
    "            div = Streitberg_4(X, co.estimation)  # broadcast\n",
    "            divs += div\n",
    "        normal4_dict[k][d] = divs/200"
   ]
  },
  {
   "cell_type": "markdown",
   "id": "a2ecf282-b0a1-45ef-95db-f655acb19db4",
   "metadata": {},
   "source": [
    "# N choice"
   ]
  },
  {
   "cell_type": "code",
   "execution_count": null,
   "id": "edded37c-9fc5-4945-93cb-9b4bb7f002f6",
   "metadata": {},
   "outputs": [],
   "source": [
    "ns = [50, 80, 200, 500, 1000, 3000]\n",
    "# ns = [3000]\n",
    "ds = [0, 0.05, 0.1, 0.15, 0.2, 0.25, 0.3, 0.35, 0.4, 0.45, 0.5, 0.55, 0.6, 0.65, 0.7, 0.75, 0.8, 0.85, 0.9, 0.95]\n",
    "# ds = [0.55, 0.6, 0.65, 0.7, 0.75, 0.8, 0.85, 0.9, 0.95]"
   ]
  },
  {
   "cell_type": "code",
   "execution_count": null,
   "id": "92ac8575-879e-410e-97bf-7adddb30d2bf",
   "metadata": {},
   "outputs": [],
   "source": [
    "normal4_dict = defaultdict(lambda: defaultdict(int))\n",
    "for n in ns:\n",
    "    cost_name = 'BDTsallis_KnnK'  # dim >= 1\n",
    "    co = co_factory(cost_name, mult=True, alpha=0.5, k=30)  # cost object \n",
    "    for d in tqdm(ds):\n",
    "        divs = 0\n",
    "        for i in np.arange(200):\n",
    "            X = generate_normal_4(d=d, n_samples=n, fac=4)\n",
    "            div = Streitberg_4(X, co.estimation)  # broadcast\n",
    "            divs += div\n",
    "        normal4_dict[n][d] = divs/200"
   ]
  },
  {
   "cell_type": "markdown",
   "id": "914aba73-b6ce-49ec-bba6-546b23bed2a2",
   "metadata": {},
   "source": [
    "# XOR Monotonic"
   ]
  },
  {
   "cell_type": "code",
   "execution_count": null,
   "id": "f58af7d0-20d0-49fd-97b5-524c455fdb96",
   "metadata": {},
   "outputs": [],
   "source": [
    "cost_name = 'BDTsallis_KnnK'  # dim >= 1\n",
    "co = co_factory(cost_name, mult=True, alpha=0.5, k=30)"
   ]
  },
  {
   "cell_type": "code",
   "execution_count": null,
   "id": "bc4b58e8-4a7f-4c58-a742-3d664546f8d1",
   "metadata": {},
   "outputs": [],
   "source": [
    "def generate_xor_4way(length, n_sample, noise_sample):\n",
    "    x1 = np.random.uniform(0, length, n_sample).reshape(-1, 1)\n",
    "    x2 = np.random.uniform(0, length, n_sample).reshape(-1, 1)\n",
    "    x3 = np.random.uniform(0, length, n_sample).reshape(-1, 1)\n",
    "    x4 = np.random.uniform(0, length, n_sample).reshape(-1, 1)\n",
    "    x4[noise_sample:] = (x1[noise_sample:] + x2[noise_sample:] + x3[noise_sample:]) % 3\n",
    "\n",
    "    data = np.hstack((x1, x2, x3, x4))\n",
    "\n",
    "    return data"
   ]
  },
  {
   "cell_type": "code",
   "execution_count": null,
   "id": "598a2a11-ed53-461f-87c3-7696de3b5ba0",
   "metadata": {},
   "outputs": [],
   "source": [
    "xor_dict = defaultdict(int)\n",
    "ds = [0, 0.05, 0.1, 0.15, 0.2, 0.25, 0.3, 0.35, 0.4, 0.45, 0.5, 0.55, 0.6, 0.65, 0.7, 0.75, 0.8, 0.85, 0.9, 0.95, 1]\n",
    "# ds = [0.95, 1]\n",
    "for d in tqdm(ds):\n",
    "    divs = 0\n",
    "    for i in np.arange(100):\n",
    "        X = generate_xor_4way(3, 1000, int(1000-1000*d))\n",
    "        div = Streitberg_4(X, co.estimation)  # broadcast\n",
    "        divs += div\n",
    "    xor_dict[d] = divs/100"
   ]
  },
  {
   "cell_type": "markdown",
   "id": "e74efb8e-8c4b-4d28-8f48-7d9282912a34",
   "metadata": {},
   "source": [
    "# COPY Monotonic"
   ]
  },
  {
   "cell_type": "code",
   "execution_count": null,
   "id": "c55fd0dd-d5f9-4077-b2ff-f59113df67d6",
   "metadata": {},
   "outputs": [],
   "source": [
    "def generate_copy_4way(length, n_sample, noise_sample):\n",
    "    x = np.random.uniform(0, length, n_sample).reshape(-1, 1)\n",
    "    x1 = np.random.uniform(0, length, n_sample).reshape(-1, 1)\n",
    "    x2 = np.random.uniform(0, length, n_sample).reshape(-1, 1)\n",
    "    x3 = np.random.uniform(0, length, n_sample).reshape(-1, 1)\n",
    "    x4 = np.random.uniform(0, length, n_sample).reshape(-1, 1)\n",
    "    \n",
    "    x1[noise_sample:] = x[noise_sample:]\n",
    "    x2[noise_sample:] = x[noise_sample:]\n",
    "    x3[noise_sample:] = x[noise_sample:]\n",
    "    x4[noise_sample:] = x[noise_sample:]\n",
    "    \n",
    "    data = np.hstack((x1, x2, x3, x4))\n",
    "    return data"
   ]
  },
  {
   "cell_type": "code",
   "execution_count": null,
   "id": "de588aa5-3dc0-4b60-9bf0-a022ebb26ec1",
   "metadata": {},
   "outputs": [],
   "source": [
    "cost_name = 'BDTsallis_KnnK'  # dim >= 1\n",
    "co = co_factory(cost_name, mult=True, alpha=0.5, k=30)"
   ]
  },
  {
   "cell_type": "code",
   "execution_count": null,
   "id": "4c676182-7435-42f9-96cf-9db560ae1104",
   "metadata": {},
   "outputs": [],
   "source": [
    "copy_dict = defaultdict(int)\n",
    "ds = [0, 0.05, 0.1, 0.15, 0.2, 0.25, 0.3, 0.35, 0.4, 0.45, 0.5, 0.55, 0.6, 0.65, 0.7, 0.75, 0.8, 0.85, 0.9, 0.95, 1]\n",
    "# ds = [0.95, 1]\n",
    "for d in tqdm(ds):\n",
    "    divs = 0\n",
    "    for i in np.arange(200):\n",
    "        X = generate_copy_4way(3, 1000, int(1000-1000*d))\n",
    "        div = Streitberg_4(X, co.estimation)  # broadcast\n",
    "        divs += div\n",
    "    copy_dict[d] = divs/200"
   ]
  }
 ],
 "metadata": {
  "kernelspec": {
   "display_name": "Python 3 (ipykernel)",
   "language": "python",
   "name": "python3"
  },
  "language_info": {
   "codemirror_mode": {
    "name": "ipython",
    "version": 3
   },
   "file_extension": ".py",
   "mimetype": "text/x-python",
   "name": "python",
   "nbconvert_exporter": "python",
   "pygments_lexer": "ipython3",
   "version": "3.9.12"
  }
 },
 "nbformat": 4,
 "nbformat_minor": 5
}
