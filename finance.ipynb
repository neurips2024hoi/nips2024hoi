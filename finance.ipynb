{
 "cells": [
  {
   "cell_type": "code",
   "execution_count": null,
   "id": "1c1c7bdd-960b-4108-b9de-afb219b1e899",
   "metadata": {},
   "outputs": [],
   "source": [
    "import numpy as np\n",
    "from collections import defaultdict\n",
    "import pandas as pd\n",
    "import matplotlib.pyplot as plt\n",
    "from itertools import combinations\n",
    "from tqdm import tqdm\n",
    "from ite.cost.x_factory import co_factory\n",
    "import random\n",
    "import scipy\n",
    "import pickle\n",
    "import warnings\n",
    "import dill"
   ]
  },
  {
   "cell_type": "code",
   "execution_count": null,
   "id": "3d2adfd0-6534-4177-8289-f51a6429d28b",
   "metadata": {},
   "outputs": [],
   "source": [
    "def shuffle_data(data, shuffle_indices):\n",
    "    # Create a copy of the original data to avoid modifying the input in place.\n",
    "    shuffled_data = data.copy()\n",
    "\n",
    "    for indices in shuffle_indices:\n",
    "        # Generate a random permutation for the indices.\n",
    "        permutation = np.random.permutation(shuffled_data.shape[0])\n",
    "\n",
    "        # Apply the permutation to the specified indices.\n",
    "        for idx in indices:\n",
    "            shuffled_data[:, idx] = shuffled_data[permutation, idx]\n",
    "\n",
    "    return shuffled_data\n",
    "\n",
    "def Streitberg_4(X, div_func):\n",
    "    n = X.shape[0]\n",
    "\n",
    "    X_fully_shuffled = shuffle_data(X, [[0], [1], [2]])\n",
    "    p1234 = div_func(X, X_fully_shuffled)\n",
    "    p1p234 = div_func(X[:,[1, 2, 3]], X_fully_shuffled[:,[1, 2, 3]])\n",
    "    p2p134 = div_func(X[:,[0, 2, 3]], X_fully_shuffled[:,[0, 2, 3]])\n",
    "    p3p124 = div_func(X[:,[0, 1, 3]], X_fully_shuffled[:,[0, 1, 3]])\n",
    "    p4p123 = div_func(X[:,[0, 1, 2]], X_fully_shuffled[:,[0, 1, 2]])\n",
    "    p12p34 = div_func(shuffle_data(X, [[0, 1]]), X_fully_shuffled)\n",
    "    p13p24 = div_func(shuffle_data(X, [[0, 2]]), X_fully_shuffled)\n",
    "    p14p23 = div_func(shuffle_data(X, [[0, 3]]), X_fully_shuffled)\n",
    "    p1p2p34 = div_func(X[:,[2, 3]], X_fully_shuffled[:,[2, 3]])\n",
    "    p1p3p24 = div_func(X[:,[1, 3]], X_fully_shuffled[:,[1, 3]])\n",
    "    p1p4p23 = div_func(X[:,[1, 2]], X_fully_shuffled[:,[1, 2]])\n",
    "    p2p3p14 = div_func(X[:,[0, 3]], X_fully_shuffled[:,[0, 3]])\n",
    "    p2p4p13 = div_func(X[:,[0, 2]], X_fully_shuffled[:,[0, 2]])\n",
    "    p3p4p12 = div_func(X[:,[0, 1]], X_fully_shuffled[:,[0, 1]])\n",
    "\n",
    "    streitberg_4 = (p1234 - (p1p234 + p2p134 + p3p124 + p4p123) - (p12p34 + p13p24 + p14p23)\n",
    "                    + 2 * (p1p2p34 + p1p3p24 + p1p4p23 + p2p3p14 + p2p4p13 + p3p4p12))\n",
    "\n",
    "    return streitberg_4\n",
    "\n",
    "def Streitberg_3(X, div_func):\n",
    "    n = X.shape[0]\n",
    "\n",
    "    X_fully_shuffled = shuffle_data(X, [[0], [1]])\n",
    "    p123 = div_func(X, X_fully_shuffled)\n",
    "    p1p23 = div_func(X[:,[1, 2]], X_fully_shuffled[:,[1, 2]])\n",
    "    p2p13 = div_func(X[:,[0, 2]], X_fully_shuffled[:,[0, 2]])\n",
    "    p3p12 = div_func(X[:,[0, 1]], X_fully_shuffled[:,[0, 1]])\n",
    "\n",
    "    streitberg_3 = p123 - (p1p23 + p2p13 + p3p12)\n",
    "\n",
    "    return streitberg_3\n",
    "\n",
    "def Streitberg_2(X, div_func):\n",
    "    n = X.shape[0]\n",
    "\n",
    "    X_fully_shuffled = shuffle_data(X, [[0]])\n",
    "    p12 = div_func(X, X_fully_shuffled)\n",
    "    \n",
    "    return p12"
   ]
  },
  {
   "cell_type": "markdown",
   "id": "c5784d7b-4e2f-4544-aca8-f8c235e51821",
   "metadata": {},
   "source": [
    "# Stock info"
   ]
  },
  {
   "cell_type": "code",
   "execution_count": null,
   "id": "b8bbe95f-2fdd-4a03-83be-a724e3295107",
   "metadata": {},
   "outputs": [],
   "source": [
    "info = pd.read_csv('data/sp500/sp500_companies.csv')"
   ]
  },
  {
   "cell_type": "code",
   "execution_count": null,
   "id": "1364f719-d140-49e1-b310-a9b2a7e12826",
   "metadata": {},
   "outputs": [],
   "source": [
    "# Initialize an empty dictionary\n",
    "category_dict = {}\n",
    "\n",
    "# Group by 'Category' and iterate over each group\n",
    "for category, group in info.groupby('Sector'):\n",
    "    # Count the occurrences of each subcategory within the group\n",
    "    subcategory_counts = group['Industry'].value_counts().to_dict()\n",
    "    \n",
    "    # Store the counts dictionary in the main dictionary with category as key\n",
    "    category_dict[category] = subcategory_counts"
   ]
  },
  {
   "cell_type": "code",
   "execution_count": null,
   "id": "ede34af2-2677-46c1-8c9d-1e9e9b60345c",
   "metadata": {},
   "outputs": [],
   "source": [
    "info[info['Symbol']=='STT']"
   ]
  },
  {
   "cell_type": "markdown",
   "id": "dfcb863d-e941-4e32-8d01-c23c31a53a44",
   "metadata": {},
   "source": [
    "# Stock data"
   ]
  },
  {
   "cell_type": "code",
   "execution_count": null,
   "id": "d535300a-7a17-4f8f-a059-0f90584a68bb",
   "metadata": {},
   "outputs": [],
   "source": [
    "df = pd.read_csv('data/sp500/sp500_stocks.csv')\n",
    "df['return'] = df['Close'] - df['Open']\n",
    "df['Date'] = pd.to_datetime(df['Date'])"
   ]
  },
  {
   "cell_type": "code",
   "execution_count": null,
   "id": "7f693f2e-c0e4-4eef-9519-e93e58bb13d4",
   "metadata": {},
   "outputs": [],
   "source": [
    "pivot_df = df[['Date', 'Symbol', 'return']].pivot_table(index='Date', columns='Symbol', values='return')"
   ]
  },
  {
   "cell_type": "code",
   "execution_count": null,
   "id": "0ec471bd-b0f3-4440-b7c5-2e2fc6c25732",
   "metadata": {},
   "outputs": [],
   "source": [
    "pivot_df.reset_index(inplace=True)\n",
    "pivot_df.columns.name = None"
   ]
  },
  {
   "cell_type": "code",
   "execution_count": null,
   "id": "dc5454b2-1d0a-434b-b341-4bf6a4f0756f",
   "metadata": {},
   "outputs": [],
   "source": [
    "# Check for missing values in each column and count them\n",
    "missing_values_count = pivot_df.isna().sum()\n",
    "\n",
    "# Count the number of columns with missing values\n",
    "columns_with_missing_values = missing_values_count[missing_values_count > 0].count()"
   ]
  },
  {
   "cell_type": "code",
   "execution_count": null,
   "id": "726346a1-3154-4e02-ad1c-bcc66f777818",
   "metadata": {},
   "outputs": [],
   "source": [
    "# if more than 20% missingness in data\n",
    "drop_company = list(missing_values_count[missing_values_count > 720].keys())"
   ]
  },
  {
   "cell_type": "code",
   "execution_count": null,
   "id": "b978135e-41bf-48cb-a873-91c5e5ee0444",
   "metadata": {},
   "outputs": [],
   "source": [
    "pivot_df_drop = pivot_df.drop(columns=drop_company)"
   ]
  },
  {
   "cell_type": "code",
   "execution_count": null,
   "id": "c5858c83-044f-4e44-9b93-9101f0949662",
   "metadata": {},
   "outputs": [],
   "source": [
    "pivot_df_dropna = pivot_df_drop.dropna()"
   ]
  },
  {
   "cell_type": "code",
   "execution_count": null,
   "id": "7cc11e2e-693e-403c-ab42-b7ab6330d5c4",
   "metadata": {},
   "outputs": [],
   "source": [
    "sector_dict = info[['Symbol', 'Sector']]\n",
    "sector_dict = sector_dict[~sector_dict['Symbol'].isin(drop_company)]"
   ]
  },
  {
   "cell_type": "code",
   "execution_count": null,
   "id": "55216479-3f92-40f9-a361-d2693939a615",
   "metadata": {},
   "outputs": [],
   "source": [
    "sector_dict = sector_dict.groupby('Sector')['Symbol'].apply(list).to_dict()"
   ]
  },
  {
   "cell_type": "code",
   "execution_count": null,
   "id": "860d90aa-20ca-4afd-9906-11fd4e8a2c0c",
   "metadata": {},
   "outputs": [],
   "source": [
    "sector_dict['random'] = list(pivot_df_dropna.columns[1:])"
   ]
  },
  {
   "cell_type": "code",
   "execution_count": null,
   "id": "559a8912-52d4-40eb-aa6a-66d3f55dff33",
   "metadata": {},
   "outputs": [],
   "source": [
    "# with open('data/sector_dict.pkl', 'wb') as f:\n",
    "#     pickle.dump(sector_dict, f)\n",
    "# with open('data/pivot_df_dropna.pkl', 'wb') as f:\n",
    "#     pickle.dump(pivot_df_dropna, f)"
   ]
  },
  {
   "cell_type": "code",
   "execution_count": null,
   "id": "744ff747-3e17-43e6-ac64-f3f2928a0f7b",
   "metadata": {},
   "outputs": [],
   "source": [
    "pivot_df_dropna.shape"
   ]
  },
  {
   "cell_type": "code",
   "execution_count": null,
   "id": "2be3eacb-a9f1-4630-9bcc-3247b0d3f9a9",
   "metadata": {},
   "outputs": [],
   "source": [
    "url = 'https://en.wikipedia.org/wiki/List_of_S%26P_500_companies'\n",
    "wiki = pd.read_html(url)[0]"
   ]
  },
  {
   "cell_type": "code",
   "execution_count": null,
   "id": "92fca2cc-0ee0-4be6-9e86-62202de4381a",
   "metadata": {},
   "outputs": [],
   "source": [
    "sector_dict = wiki[['Symbol', 'GICS Sector']]\n",
    "sector_dict = sector_dict[~sector_dict['Symbol'].isin(drop_company)]\n",
    "companies = set(pivot_df_dropna.columns[1:]).intersection(set(sector_dict['Symbol']))\n",
    "sector_dict = sector_dict[sector_dict['Symbol'].isin(companies)]"
   ]
  },
  {
   "cell_type": "code",
   "execution_count": null,
   "id": "108af032-61d7-48e0-8e90-8e4857af4bc7",
   "metadata": {},
   "outputs": [],
   "source": [
    "sector_dict = sector_dict.groupby('GICS Sector')['Symbol'].apply(list).to_dict()"
   ]
  },
  {
   "cell_type": "code",
   "execution_count": null,
   "id": "0e89326f-34b1-4702-9026-6ac2ebc410d9",
   "metadata": {},
   "outputs": [],
   "source": [
    "sector_dict['Random'] = list(pivot_df_dropna.columns[1:])"
   ]
  },
  {
   "cell_type": "code",
   "execution_count": null,
   "id": "dfb3a22e-82e1-4cc4-b2be-157630b4f7af",
   "metadata": {},
   "outputs": [],
   "source": [
    "# with open('data/sp500/sector_dict_wiki.pkl', 'wb') as f:\n",
    "#     pickle.dump(sector_dict, f)"
   ]
  },
  {
   "cell_type": "markdown",
   "id": "5098a005-af61-423e-a82e-df1a0b4e9033",
   "metadata": {
    "jp-MarkdownHeadingCollapsed": true,
    "tags": []
   },
   "source": [
    "# Run experiments (seed=331)"
   ]
  },
  {
   "cell_type": "code",
   "execution_count": null,
   "id": "d8d9eb54-f263-4003-97a8-0f6affa60db2",
   "metadata": {},
   "outputs": [],
   "source": [
    "with open('data/sector_dict.pkl', 'rb') as f:\n",
    "    sector_dict = pickle.load(f)\n",
    "with open('data/pivot_df_dropna.pkl', 'rb') as f:\n",
    "    pivot_df_dropna = pickle.load(f)"
   ]
  },
  {
   "cell_type": "code",
   "execution_count": null,
   "id": "e40d581a-bccd-4730-9c2d-44042f53ca9a",
   "metadata": {},
   "outputs": [],
   "source": [
    "sector_dictq = sector_dict.pop('random')"
   ]
  },
  {
   "cell_type": "code",
   "execution_count": null,
   "id": "eae9bc15-1730-43fa-9fec-f43f4c118ce9",
   "metadata": {},
   "outputs": [],
   "source": [
    "cost_name = 'BDTsallis_KnnK'  # dim >= 1\n",
    "co = co_factory(cost_name, mult=True, alpha=0.5, k=30)  # cost object "
   ]
  },
  {
   "cell_type": "markdown",
   "id": "e92fa7bc-f480-4c25-a152-dd0d8168034a",
   "metadata": {},
   "source": [
    "# COVID samples"
   ]
  },
  {
   "cell_type": "code",
   "execution_count": null,
   "id": "7505af0e-9561-44c7-afad-721700ebd33b",
   "metadata": {
    "tags": []
   },
   "outputs": [],
   "source": [
    "with open('data/sp500/sector_dict_wiki.pkl', 'rb') as f:\n",
    "    sector_dict = pickle.load(f)\n",
    "with open('data/sp500/pivot_df_dropna.pkl', 'rb') as f:\n",
    "    pivot_df_dropna = pickle.load(f)"
   ]
  },
  {
   "cell_type": "code",
   "execution_count": null,
   "id": "e64ffdba-7e05-43be-8598-44ff3dd01ece",
   "metadata": {},
   "outputs": [],
   "source": [
    "covid_sample = pivot_df_dropna[pivot_df_dropna['Date'] > '2020']"
   ]
  },
  {
   "cell_type": "code",
   "execution_count": null,
   "id": "7a569f94-7dd0-48a9-8e98-6c4b7c87ac87",
   "metadata": {},
   "outputs": [],
   "source": [
    "precovid_sample = pivot_df_dropna[pivot_df_dropna['Date'] < '2020']"
   ]
  },
  {
   "cell_type": "code",
   "execution_count": null,
   "id": "afa20648-74ca-48dc-a233-af60ea7f695d",
   "metadata": {},
   "outputs": [],
   "source": [
    "cost_name = 'BDTsallis_KnnK'  # dim >= 1\n",
    "co = co_factory(cost_name, mult=True, alpha=0.5, k=30)  # cost object "
   ]
  },
  {
   "cell_type": "code",
   "execution_count": null,
   "id": "8724e52d-3a77-481e-9595-548338acc780",
   "metadata": {},
   "outputs": [],
   "source": [
    "def sampledata(my_list, samples=500, k=2, seed=331):\n",
    "    unique_sets = set()\n",
    "\n",
    "    local_random = random.Random()\n",
    "    local_random.seed(seed)\n",
    "\n",
    "    total_combinations = scipy.special.comb(len(my_list), k)\n",
    "    max_unique_sets = min(samples, total_combinations)\n",
    "\n",
    "    while len(unique_sets) < max_unique_sets:\n",
    "        random_set = frozenset(local_random.sample(my_list, k=k))\n",
    "        unique_sets.add(random_set)\n",
    "\n",
    "    unique_sets = [list(s) for s in unique_sets]\n",
    "    return unique_sets"
   ]
  },
  {
   "cell_type": "code",
   "execution_count": null,
   "id": "38416e95-9236-4c15-ae9f-a341ac7430ee",
   "metadata": {},
   "outputs": [],
   "source": [
    "def covid_sample_hoi(seed):\n",
    "    hoi_dict = defaultdict(lambda: defaultdict(int))\n",
    "    for sector, symbol in tqdm(sector_dict.items()):\n",
    "        # 2way info\n",
    "        unique_sets = sampledata(symbol, samples=500, k=2, seed=seed)\n",
    "        for sample_ind in unique_sets:\n",
    "            X = np.array(covid_sample[sample_ind])\n",
    "            info = Streitberg_2(X, co.estimation)\n",
    "            hoi_dict[sector][tuple(sample_ind)] = info\n",
    "        # 3way\n",
    "        unique_sets = sampledata(symbol, samples=500, k=3, seed=seed)\n",
    "        for sample_ind in unique_sets:\n",
    "            X = np.array(covid_sample[sample_ind])\n",
    "            info = Streitberg_3(X, co.estimation)\n",
    "            hoi_dict[sector][tuple(sample_ind)] = info\n",
    "        # 4way\n",
    "        unique_sets = sampledata(symbol, samples=500, k=4, seed=seed)\n",
    "        for sample_ind in unique_sets:\n",
    "            X = np.array(covid_sample[sample_ind])\n",
    "            info = Streitberg_4(X, co.estimation)\n",
    "            hoi_dict[sector][tuple(sample_ind)] = info\n",
    "        \n",
    "    return hoi_dict"
   ]
  },
  {
   "cell_type": "code",
   "execution_count": null,
   "id": "0dc075e7-004d-4b6c-9bb6-d214b957add4",
   "metadata": {},
   "outputs": [],
   "source": [
    "covid_hoi = covid_sample_hoi(331)"
   ]
  },
  {
   "cell_type": "code",
   "execution_count": null,
   "id": "56436c96-c4fc-4590-87dc-269f5a7bd30d",
   "metadata": {},
   "outputs": [],
   "source": [
    "with open('data/sp500/covid_hoi_sp500_wiki.pkl', 'wb') as f:\n",
    "     dill.dump(covid_hoi, f)"
   ]
  },
  {
   "cell_type": "code",
   "execution_count": null,
   "id": "a347e52d-6788-4d9a-9a3a-85df4d320884",
   "metadata": {},
   "outputs": [],
   "source": [
    "def precovid_sample_hoi(seed):\n",
    "    hoi_dict = defaultdict(lambda: defaultdict(int))\n",
    "    for sector, symbol in tqdm(sector_dict.items()):\n",
    "        # 2way info\n",
    "        unique_sets = sampledata(symbol, samples=500, k=2, seed=seed)\n",
    "        for sample_ind in unique_sets:\n",
    "            X = np.array(precovid_sample[sample_ind])\n",
    "            info = Streitberg_2(X, co.estimation)\n",
    "            hoi_dict[sector][tuple(sample_ind)] = info\n",
    "        # 3way\n",
    "        unique_sets = sampledata(symbol, samples=500, k=3, seed=seed)\n",
    "        for sample_ind in unique_sets:\n",
    "            X = np.array(precovid_sample[sample_ind])\n",
    "            info = Streitberg_3(X, co.estimation)\n",
    "            hoi_dict[sector][tuple(sample_ind)] = info\n",
    "        # 4way\n",
    "        unique_sets = sampledata(symbol, samples=500, k=4, seed=seed)\n",
    "        for sample_ind in unique_sets:\n",
    "            X = np.array(precovid_sample[sample_ind])\n",
    "            info = Streitberg_4(X, co.estimation)\n",
    "            hoi_dict[sector][tuple(sample_ind)] = info\n",
    "        \n",
    "    return hoi_dict"
   ]
  },
  {
   "cell_type": "code",
   "execution_count": null,
   "id": "ef5be720-3001-40c8-95fe-f2a21fdb8291",
   "metadata": {},
   "outputs": [],
   "source": [
    "precovid_hoi = precovid_sample_hoi(331)"
   ]
  }
 ],
 "metadata": {
  "kernelspec": {
   "display_name": "Python 3 (ipykernel)",
   "language": "python",
   "name": "python3"
  },
  "language_info": {
   "codemirror_mode": {
    "name": "ipython",
    "version": 3
   },
   "file_extension": ".py",
   "mimetype": "text/x-python",
   "name": "python",
   "nbconvert_exporter": "python",
   "pygments_lexer": "ipython3",
   "version": "3.9.12"
  }
 },
 "nbformat": 4,
 "nbformat_minor": 5
}
